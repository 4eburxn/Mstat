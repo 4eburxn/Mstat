{
 "cells": [
  {
   "cell_type": "markdown",
   "id": "249082b3-0cb8-4764-b264-6b71f71631a6",
   "metadata": {},
   "source": [
    "# Т5"
   ]
  },
  {
   "cell_type": "code",
   "execution_count": 1,
   "id": "e57f5892-5257-48a5-aefa-0d0b3dedffae",
   "metadata": {},
   "outputs": [],
   "source": [
    "from numba import jit\n",
    "\n",
    "import numpy as np\n",
    "import matplotlib.pyplot as plt"
   ]
  },
  {
   "cell_type": "code",
   "execution_count": 2,
   "id": "a36a7c8e-fa35-4942-8628-bfb3c3cd57b6",
   "metadata": {},
   "outputs": [],
   "source": [
    "tet = 50\n",
    "n = 100"
   ]
  },
  {
   "cell_type": "code",
   "execution_count": 3,
   "id": "bb81e984-6153-45db-a9f9-f46c3c1dfc8b",
   "metadata": {},
   "outputs": [
    {
     "name": "stdout",
     "output_type": "stream",
     "text": [
      "Отсортированный:\n",
      " [50.66853444 50.99414977 51.66821678 51.68427681 51.87272342 52.74686286\n",
      " 52.82508909 53.34660193 53.50719563 54.33695434 54.88967308 55.53280012\n",
      " 55.72573549 55.73147532 55.98048311 58.59811392 59.15933497 59.48753702\n",
      " 59.59415089 60.08653701 61.69978963 61.78844926 62.38388893 63.32365579\n",
      " 63.88274905 64.06349821 65.08625288 65.36937374 65.59205319 66.5428704\n",
      " 66.67594019 67.12475858 67.28853201 67.47630626 67.57172657 68.38648875\n",
      " 68.50430136 68.81769969 69.33225061 70.23652983 70.45594105 71.65703366\n",
      " 71.68468692 72.08027255 72.35676432 72.44008175 72.78445429 73.4502849\n",
      " 73.49796417 73.56127047 73.72523152 74.31512769 74.71991    74.87263516\n",
      " 75.91263802 76.73194888 76.75865664 77.1348668  77.15862775 77.63007707\n",
      " 77.87304585 78.91011144 79.06333752 79.40695704 79.47463138 79.59278537\n",
      " 79.80792815 80.33062586 80.72130523 80.7912939  80.98608085 81.05238059\n",
      " 81.7146264  83.26001467 83.67591877 83.69375942 86.2752292  86.45539404\n",
      " 86.63038658 86.75905423 87.8728213  88.34560872 88.72007487 88.8052964\n",
      " 88.82666274 89.11025677 89.68546006 91.32651675 91.46589219 93.71264787\n",
      " 94.07034015 94.36313809 94.46903417 95.19585178 96.16431724 96.91517034\n",
      " 97.36553696 97.84657345 98.80434448 99.89737851]\n"
     ]
    }
   ],
   "source": [
    "X = np.random.uniform(tet, tet*2, n)\n",
    "print(\"Отсортированный:\\n\",np.sort(X))\n"
   ]
  },
  {
   "cell_type": "code",
   "execution_count": 4,
   "id": "865e8d0b-e7c7-45bc-8b50-be619878651b",
   "metadata": {},
   "outputs": [
    {
     "name": "stdout",
     "output_type": "stream",
     "text": [
      "Точный интервал: (49.95501221016228, 50.869858264411036),\n",
      "t2-t1 = 0.9148460542487555\n"
     ]
    }
   ],
   "source": [
    "b = 0.95\n",
    "\n",
    "right = np.max(X)/(1+ ((1-b)/2)**(1/n) )\n",
    "left = np.max(X)/(1+ ((1+b)/2)**(1/n) )\n",
    "print(f\"Точный интервал: ({left}, {right}),\\nt2-t1 = {right-left}\")"
   ]
  },
  {
   "cell_type": "code",
   "execution_count": 5,
   "id": "27e227c6-a412-4ae3-aa3a-97109a7ae531",
   "metadata": {},
   "outputs": [
    {
     "name": "stdout",
     "output_type": "stream",
     "text": [
      "Асимптотический интервал: (47.59626364942362, 51.09640066884046),\n",
      "t2-t1 = 3.50013701941684\n"
     ]
    }
   ],
   "source": [
    "a1 = (np.sum(X)/n)\n",
    "a2 = np.sum(X**2)/n\n",
    "\n",
    "left1 =  (2 / 3) * (-1.96*np.sqrt((a2 - a1**2)/n) +a1)\n",
    "right1 = (2 / 3) * ( 1.96*np.sqrt((a2 - a1**2)/n) +a1)\n",
    "print(f\"Асимптотический интервал: ({left1}, {right1}),\\nt2-t1 = {right1-left1}\")"
   ]
  },
  {
   "cell_type": "code",
   "execution_count": 6,
   "id": "4368fa00-f9b7-48c2-8604-a1786cbf3df2",
   "metadata": {},
   "outputs": [
    {
     "name": "stdout",
     "output_type": "stream",
     "text": [
      "Интервал через бутстрап: (47.60274478451695, 51.091221605176266),\n",
      "t2-t1 = 3.488476820659315\n"
     ]
    }
   ],
   "source": [
    "N = 100000\n",
    "t1 = int(N*0.025)-1\n",
    "t2 = N-t1\n",
    "\n",
    "@jit(nopython=True, parallel=True)\n",
    "def bs(N):\n",
    "    data = []\n",
    "    for i in range(100000):\n",
    "        data.append(2 / 3 * np.mean(np.random.choice(X, size = len(X))))\n",
    "    return np.sort(data)\n",
    "\n",
    "data = bs(N)\n",
    "\n",
    "left2 = 2 / 3 * np.mean(X) + data[t1] - 2 / 3 * np.mean(X)\n",
    "right2 = 2 / 3 * np.mean(X) + data[t2] - 2 / 3 * np.mean(X)\n",
    "\n",
    "print(f\"Интервал через бутстрап: ({left2}, {right2}),\\nt2-t1 = {right2-left2}\")"
   ]
  },
  {
   "cell_type": "code",
   "execution_count": 7,
   "id": "88d09995-7339-440d-b976-2d73a62e01c1",
   "metadata": {},
   "outputs": [
    {
     "name": "stdout",
     "output_type": "stream",
     "text": [
      "Точный интервал:\t\t (49.95501221016228, 50.869858264411036),\t\tt2-t1 = 0.9148460542487555\n",
      "Асимптотический интервал:\t (47.59626364942362, 51.09640066884046),\t\tt2-t1 = 3.50013701941684\n",
      "Интервал через бутстрап:\t (47.60274478451695, 51.091221605176266),\t\tt2-t1 = 3.488476820659315\n"
     ]
    }
   ],
   "source": [
    "\n",
    "print(f\"Точный интервал:\\t\\t ({left}, {right}),\\t\\tt2-t1 = {right-left}\")\n",
    "print(f\"Асимптотический интервал:\\t ({left1}, {right1}),\\t\\tt2-t1 = {right1-left1}\")\n",
    "print(f\"Интервал через бутстрап:\\t ({left2}, {right2}),\\t\\tt2-t1 = {right2-left2}\")"
   ]
  },
  {
   "cell_type": "markdown",
   "id": "1f4c9a0e-9291-4314-ae6d-afaa1a167e7e",
   "metadata": {},
   "source": [
    "# Т6"
   ]
  },
  {
   "cell_type": "code",
   "execution_count": 8,
   "id": "d5ff592b-31d5-42bf-b5ca-858575a6af2d",
   "metadata": {},
   "outputs": [
    {
     "name": "stdout",
     "output_type": "stream",
     "text": [
      "[1.01330055 1.01477969 1.01723712 1.03577057 1.03814521 1.03876026\n",
      " 1.03905165 1.05217661 1.05810258 1.06432701 1.06550847 1.07361691\n",
      " 1.07402166 1.07408689 1.08606239 1.09174838 1.09858354 1.102524\n",
      " 1.10760495 1.13494991 1.13570195 1.14538654 1.15780685 1.16379653\n",
      " 1.16587261 1.16953826 1.17114631 1.17541587 1.18016168 1.18271291\n",
      " 1.18309585 1.19666792 1.20757325 1.22249802 1.23558279 1.23983306\n",
      " 1.26296892 1.26384628 1.27611386 1.29585603 1.29668106 1.29783735\n",
      " 1.32078743 1.3345045  1.34089608 1.3431852  1.36056689 1.36384177\n",
      " 1.3759981  1.39068857 1.39120816 1.42024559 1.42355371 1.4299691\n",
      " 1.45281853 1.45617298 1.46707442 1.47966395 1.50145802 1.50567267\n",
      " 1.59386969 1.59974754 1.60942798 1.61029126 1.61733418 1.64632509\n",
      " 1.64739947 1.67309202 1.6739251  1.72604946 1.78967804 1.81907624\n",
      " 1.8272551  1.84959281 1.87668605 1.88861364 1.893474   1.89719831\n",
      " 1.90710259 2.0117068  2.03133544 2.09071893 2.13505988 2.15023828\n",
      " 2.16293602 2.17905881 2.19558612 2.20850236 2.23878622 2.25319305\n",
      " 2.43046505 2.45922556 2.47265942 2.7333251  2.79826446 2.99543517\n",
      " 3.14011323 3.44104581 3.5020758  4.22883472]\n"
     ]
    }
   ],
   "source": [
    "tet = 2\n",
    "n = 100\n",
    "X = np.random.pareto(tet, n)+1\n",
    "print(np.sort(X))"
   ]
  },
  {
   "cell_type": "code",
   "execution_count": 9,
   "id": "b78a2026-f2c3-4d6e-85f2-fd4338418bf7",
   "metadata": {},
   "outputs": [
    {
     "name": "stdout",
     "output_type": "stream",
     "text": [
      "ОМП: θ = 2.4147409667831488\n",
      "Доверительный размах для медианы: [1.4754865789512024, 1.7889707358696205]\n",
      "Размах для медианы: 0.31348415691841813\n"
     ]
    }
   ],
   "source": [
    "tetT = n/np.sum(np.log(X))\n",
    "\n",
    "\n",
    "right = (1.96 * np.log(2) * (2 ** (1 / (tetT - 1)))) / (tetT - 1) / 10 + 2 ** (1 / (tetT -1))\n",
    "left = (-(1.96 * np.log(2) * (2 ** (1 / (tetT - 1)))) / (tetT - 1) / 10 + 2 ** (1 / (tetT -1)))\n",
    "\n",
    "print(f\"ОМП: θ = {tetT}\",\n",
    "      f\"Доверительный размах для медианы: [{left}, {right}]\",\n",
    "      f\"Размах для медианы: {right - left}\", sep = \"\\n\")"
   ]
  },
  {
   "cell_type": "code",
   "execution_count": 10,
   "id": "eecae2fa-f293-4a51-a3c6-8ed7de4eac38",
   "metadata": {},
   "outputs": [
    {
     "name": "stdout",
     "output_type": "stream",
     "text": [
      "Непараметрический бутстрап(0.95) для медианы: (1.2951468281674527, 1.5740525217074621)\tРазмах: 0.2789056935400094\n",
      "Параметрический бутстрап(0.95) для медианы:   (1.2951468281674527, 1.5740525217074621)\tРазмах: 0.25098279056808326\n"
     ]
    }
   ],
   "source": [
    "N = 100000\n",
    "b=0.95\n",
    "t1 = int(N*(-b+1)/2)-1\n",
    "t2 = N-t1\n",
    "def bsmean1(N): # param\n",
    "    data = []\n",
    "    for i in range(N):\n",
    "        data.append( np.median((np.random.pareto(tet, n)+1)))\n",
    "    return np.sort(data)\n",
    "def bsmean2(N): # not param\n",
    "    data = []\n",
    "    for i in range(N):\n",
    "        data.append(np.median(np.random.choice(X, size = len(X))))\n",
    "    return np.sort(data)\n",
    "\n",
    "data1 = bsmean1(N)\n",
    "data2 = bsmean2(N)\n",
    "print(f\"Непараметрический бутстрап(0.95) для медианы: ({data1[t1]}, {data1[t2]})\",\n",
    "      f\"Размах: {data1[t2] - data1[t1]}\", sep=\"\\t\")\n",
    "print(f\"Параметрический бутстрап(0.95) для медианы:   ({data1[t1]}, {data1[t2]})\",\n",
    "      f\"Размах: {data2[t2] - data2[t1]}\", sep=\"\\t\")"
   ]
  },
  {
   "cell_type": "code",
   "execution_count": 11,
   "id": "04069b37-10b1-4466-a973-ba94c1535666",
   "metadata": {},
   "outputs": [
    {
     "name": "stdout",
     "output_type": "stream",
     "text": [
      "Асимптотический доверительный интервал: (2.1374517372936515, 2.692030196272646)\n",
      "Размах: 0.5545784589789946\n"
     ]
    }
   ],
   "source": [
    "left1 =  tetT- 1.96*(tetT-1)/np.sqrt(n)\n",
    "right1 = tetT+ 1.96*(tetT-1)/np.sqrt(n)\n",
    "\n",
    "print(f\"Асимптотический доверительный интервал: ({left1}, {right1})\",\n",
    "      f\"Размах: {right1 - left1}\", sep = \"\\n\")"
   ]
  },
  {
   "cell_type": "code",
   "execution_count": 12,
   "id": "0dc705ee-1953-4820-98ce-3d7b115dc3c6",
   "metadata": {},
   "outputs": [
    {
     "name": "stdout",
     "output_type": "stream",
     "text": [
      "Непараметрический бутстрап(0.95): (2.0887475775932924, 2.8383762184518604)\n",
      "Размах: 0.749628640858568\n"
     ]
    }
   ],
   "source": [
    "N = 100000\n",
    "b=0.95\n",
    "t1 = int(N*(-b+1)/2)-1\n",
    "t2 = N-t1\n",
    "\n",
    "@jit(nopython=True, parallel=True)\n",
    "def bs2(N):\n",
    "    data = []\n",
    "    for i in range(N):\n",
    "        data.append(n / np.sum(np.log((np.random.choice(X, size = len(X))))) - tetT)\n",
    "    return np.sort(data)\n",
    "\n",
    "data = bs2(N)\n",
    "\n",
    "left2 = tetT + data[t1]\n",
    "right2 = tetT + data[t2]\n",
    "\n",
    "print(f\"Непараметрический бутстрап(0.95): ({left2}, {right2})\",\n",
    "      f\"Размах: {right2 - left2}\", sep=\"\\n\")"
   ]
  },
  {
   "cell_type": "code",
   "execution_count": 13,
   "id": "b7cd8a3a-35fd-4b67-a9b8-6c7b384a7df7",
   "metadata": {},
   "outputs": [
    {
     "name": "stdout",
     "output_type": "stream",
     "text": [
      "Параметрический бутстрап(0.95): (1.6588077897317255, 2.457270812889519)\n",
      "Размах: 0.7984630231577936\n"
     ]
    }
   ],
   "source": [
    "N = 100000\n",
    "b=0.95\n",
    "t1 = int(N*(-b+1)/2)-1\n",
    "t2 = N-t1\n",
    "\n",
    "\n",
    "def bs2(N):\n",
    "    data = []\n",
    "    for i in range(N):\n",
    "        data.append( n / np.sum(np.log(np.random.pareto(tet, n)+1)) - tetT)\n",
    "    return np.sort(data)\n",
    "\n",
    "data = bs2(N)\n",
    "\n",
    "left3 = tetT + data[t1]\n",
    "right3 = tetT + data[t2]\n",
    "print(f\"Параметрический бутстрап(0.95): ({left3}, {right3})\",\n",
    "      f\"Размах: {right3 - left3}\", sep=\"\\n\")"
   ]
  },
  {
   "cell_type": "code",
   "execution_count": 14,
   "id": "3c5a71da-163b-47c1-a37f-659bf424d58b",
   "metadata": {},
   "outputs": [
    {
     "name": "stdout",
     "output_type": "stream",
     "text": [
      "Асимптотический интервал: \t\t(2.1374517372936515, 2.692030196272646)\tРазмах: 0.5545784589789946\n",
      "Непараметрический бутстрап(0.95): \t(2.0887475775932924, 2.8383762184518604)\tРазмах: 0.749628640858568\n",
      "Параметрический бутстрап(0.95): \t(1.6588077897317255, 2.457270812889519)\t\tРазмах: 0.7984630231577936\n"
     ]
    }
   ],
   "source": [
    "\n",
    "print(f\"Асимптотический интервал: \\t\\t({left1}, {right1})\",\n",
    "      f\"Размах: {right1 - left1}\", sep = \"\\t\")\n",
    "print(f\"Непараметрический бутстрап(0.95): \\t({left2}, {right2})\",\n",
    "      f\"Размах: {right2 - left2}\", sep=\"\\t\")\n",
    "print(f\"Параметрический бутстрап(0.95): \\t({left3}, {right3})\\t\",\n",
    "      f\"Размах: {right3 - left3}\", sep=\"\\t\")"
   ]
  },
  {
   "cell_type": "code",
   "execution_count": null,
   "id": "d6fc8385-6220-49e4-9186-2663d427e492",
   "metadata": {},
   "outputs": [],
   "source": []
  }
 ],
 "metadata": {
  "kernelspec": {
   "display_name": "Python 3 (ipykernel)",
   "language": "python",
   "name": "python3"
  },
  "language_info": {
   "codemirror_mode": {
    "name": "ipython",
    "version": 3
   },
   "file_extension": ".py",
   "mimetype": "text/x-python",
   "name": "python",
   "nbconvert_exporter": "python",
   "pygments_lexer": "ipython3",
   "version": "3.13.2"
  }
 },
 "nbformat": 4,
 "nbformat_minor": 5
}
