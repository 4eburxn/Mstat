{
 "cells": [
  {
   "cell_type": "code",
   "execution_count": 1,
   "id": "6245e101-df4d-4fb7-8eea-2ad7eafd6ef8",
   "metadata": {},
   "outputs": [],
   "source": [
    "import numpy as np\n",
    "from scipy.stats import chi2, kstest, norm\n",
    "from scipy.optimize import minimize"
   ]
  },
  {
   "cell_type": "code",
   "execution_count": 2,
   "id": "795dc95c-bf50-4dc7-8033-92da0237d393",
   "metadata": {},
   "outputs": [],
   "source": [
    "X = np.array([5,8,6,12,14,18,11,6,13,7])\n",
    "N = X.sum()"
   ]
  },
  {
   "cell_type": "markdown",
   "id": "7c7aa96e-1fa1-49a8-8468-a10e95aecc73",
   "metadata": {},
   "source": [
    "# Пункт a"
   ]
  },
  {
   "cell_type": "markdown",
   "id": "80586d28-a558-41dd-a280-dbd6d92351cc",
   "metadata": {},
   "source": [
    "#### $ \\chi^2 $"
   ]
  },
  {
   "cell_type": "code",
   "execution_count": 9,
   "id": "40d221ed-8dc3-4d7f-9753-4d290cc71d8d",
   "metadata": {},
   "outputs": [
    {
     "name": "stdout",
     "output_type": "stream",
     "text": [
      "delta: 16.4000\n",
      "pval:  0.0370\n"
     ]
    }
   ],
   "source": [
    "delta = ((X-10)**2/10).sum()\n",
    "pval = chi2.sf(delta, df=8)\n",
    "\n",
    "print(f\"delta: {delta:.4f}\\npval:  {pval:.4f}\")"
   ]
  },
  {
   "cell_type": "markdown",
   "id": "87348828-dbc6-4f64-ac6b-93c516921871",
   "metadata": {},
   "source": [
    "#### Колмогоров"
   ]
  },
  {
   "cell_type": "code",
   "execution_count": 12,
   "id": "3c3dc64e-8163-439e-b615-8d597eba15f8",
   "metadata": {},
   "outputs": [
    {
     "name": "stdout",
     "output_type": "stream",
     "text": [
      "sup*sqrtN: 0.5667\n",
      "pval:  0.0015\n"
     ]
    }
   ],
   "source": [
    "sup, pval = kstest(X, 'uniform', args=(0, 9))\n",
    "\n",
    "print(f\"sup*sqrtN: {sup:.4f}\\npval:  {pval:.4f}\")"
   ]
  },
  {
   "cell_type": "markdown",
   "id": "f55fa240-1053-4ba8-b6c7-0876b6edfc18",
   "metadata": {},
   "source": [
    "# Пункт b"
   ]
  },
  {
   "cell_type": "code",
   "execution_count": 13,
   "id": "18e509eb-8d73-48d5-aa73-bf91fe83766e",
   "metadata": {},
   "outputs": [
    {
     "name": "stdout",
     "output_type": "stream",
     "text": [
      "[0, 0, 0, 0, 0, 1, 1, 1, 1, 1, 1, 1, 1, 2, 2, 2, 2, 2, 2, 3, 3, 3, 3, 3, 3, 3, 3, 3, 3, 3, 3, 4, 4, 4, 4, 4, 4, 4, 4, 4, 4, 4, 4, 4, 4, 5, 5, 5, 5, 5, 5, 5, 5, 5, 5, 5, 5, 5, 5, 5, 5, 5, 5, 6, 6, 6, 6, 6, 6, 6, 6, 6, 6, 6, 7, 7, 7, 7, 7, 7, 8, 8, 8, 8, 8, 8, 8, 8, 8, 8, 8, 8, 8, 9, 9, 9, 9, 9, 9, 9]\n",
      "[np.float64(4.77), np.float64(2.505414137423193)]\n"
     ]
    }
   ],
   "source": [
    "data = []\n",
    "for i in range(len(X)):\n",
    "    data.extend([i]*X[i])\n",
    "initial_params = [np.mean(data), np.std(data)]\n",
    "print(data, initial_params, sep = \"\\n\")\n",
    "data = np.array(data)"
   ]
  },
  {
   "cell_type": "markdown",
   "id": "77cb840e-b0d5-4300-b1d5-9a8726f76fca",
   "metadata": {},
   "source": [
    "#### $ \\chi^2 $"
   ]
  },
  {
   "cell_type": "code",
   "execution_count": 6,
   "id": "b028ab06-1228-44ab-ac76-771e3d14ba49",
   "metadata": {},
   "outputs": [
    {
     "name": "stdout",
     "output_type": "stream",
     "text": [
      "Estimation of mu:\t4.7700\n",
      "Estimation of sigm:\t2.5054\n",
      "Estimation of sigm^2:\t6.2771\n"
     ]
    }
   ],
   "source": [
    "def L(params):\n",
    "    mu, sigma = params[0], params[1]\n",
    "    if sigma <= 0:\n",
    "        return np.inf\n",
    "    return -np.sum(norm.logpdf(data, mu, sigma))\n",
    "\n",
    "result = minimize(L, initial_params)\n",
    "\n",
    "mu, sigma = result.x\n",
    "print(f'Estimation of mu:\\t{mu:.4f}')\n",
    "print(f'Estimation of sigm:\\t{sigma:.4f}')\n",
    "print(f'Estimation of sigm^2:\\t{sigma**2:.4f}')"
   ]
  },
  {
   "cell_type": "code",
   "execution_count": 14,
   "id": "d7486edd-0575-4fdc-a4f9-89ed4667019a",
   "metadata": {},
   "outputs": [
    {
     "name": "stdout",
     "output_type": "stream",
     "text": [
      "delta: 14.3510\n",
      "pval:  0.0453\n"
     ]
    }
   ],
   "source": [
    "bins = [-np.inf, 0, 1, 2, 3, 4, 5, 6, 7, 8, np.inf]\n",
    "npi = []\n",
    "for i in range(len(bins)-1):\n",
    "    prob = norm.cdf(bins[i+1], mu, sigma) - norm.cdf(bins[i], mu, sigma)\n",
    "    npi.append(prob * N)\n",
    "npi = np.array(npi)\n",
    "delta = np.sum((X - npi)**2 / npi)\n",
    "pval = chi2.sf(delta, df=7)\n",
    "\n",
    "print(f\"delta: {delta:.4f}\\npval:  {pval:.4f}\")"
   ]
  },
  {
   "cell_type": "markdown",
   "id": "8d46793f-73e8-4546-8dcc-d94ad25b7296",
   "metadata": {},
   "source": [
    "#### Колмогоров"
   ]
  },
  {
   "cell_type": "code",
   "execution_count": 8,
   "id": "5ff04c53-517a-4395-9300-a1dc525bed26",
   "metadata": {},
   "outputs": [
    {
     "name": "stdout",
     "output_type": "stream",
     "text": [
      "sup*sqrtN: 5.8826\n",
      "pval:  0.0008\n"
     ]
    }
   ],
   "source": [
    "sup, pval = kstest(X, 'norm', args=(mu, sigma))\n",
    "\n",
    "print(f\"sup*sqrtN: {sup*N**0.5:.4f}\\npval:  {pval:.4f}\")"
   ]
  },
  {
   "cell_type": "code",
   "execution_count": null,
   "id": "359bf2c8-6422-4a75-ad0d-0fc44536a725",
   "metadata": {},
   "outputs": [],
   "source": []
  }
 ],
 "metadata": {
  "kernelspec": {
   "display_name": "Python 3 (ipykernel)",
   "language": "python",
   "name": "python3"
  },
  "language_info": {
   "codemirror_mode": {
    "name": "ipython",
    "version": 3
   },
   "file_extension": ".py",
   "mimetype": "text/x-python",
   "name": "python",
   "nbconvert_exporter": "python",
   "pygments_lexer": "ipython3",
   "version": "3.13.2"
  }
 },
 "nbformat": 4,
 "nbformat_minor": 5
}
