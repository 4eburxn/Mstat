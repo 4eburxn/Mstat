{
 "cells": [
  {
   "cell_type": "code",
   "execution_count": 1,
   "id": "3eeafe42-59d2-42c5-8553-588fb4fcedc3",
   "metadata": {},
   "outputs": [],
   "source": [
    "import numpy as np\n",
    "import matplotlib.pyplot as plt\n",
    "from scipy.stats import norm,t,uniform,f\n",
    "from sklearn.linear_model import LinearRegression\n",
    "import termcolor\n",
    "from numba import jit\n",
    "\n",
    "def rprint(string):\n",
    "    print(termcolor.colored(string, color='green'))"
   ]
  },
  {
   "cell_type": "code",
   "execution_count": null,
   "id": "23bee92d-a513-4704-8bdd-25e7f8b5a85a",
   "metadata": {},
   "outputs": [],
   "source": []
  }
 ],
 "metadata": {
  "kernelspec": {
   "display_name": "Python 3 (ipykernel)",
   "language": "python",
   "name": "python3"
  },
  "language_info": {
   "codemirror_mode": {
    "name": "ipython",
    "version": 3
   },
   "file_extension": ".py",
   "mimetype": "text/x-python",
   "name": "python",
   "nbconvert_exporter": "python",
   "pygments_lexer": "ipython3",
   "version": "3.13.2"
  }
 },
 "nbformat": 4,
 "nbformat_minor": 5
}
