{
 "cells": [
  {
   "cell_type": "code",
   "execution_count": 1,
   "id": "3eeafe42-59d2-42c5-8553-588fb4fcedc3",
   "metadata": {},
   "outputs": [],
   "source": [
    "import numpy as np\n",
    "import matplotlib.pyplot as plt\n",
    "from scipy.stats import norm,t,uniform,f\n",
    "from sklearn.linear_model import LinearRegression\n",
    "import termcolor\n",
    "from numba import jit\n",
    "\n",
    "def rprint(string, colors='green'):\n",
    "    print(termcolor.colored(string, color=colors))"
   ]
  },
  {
   "cell_type": "code",
   "execution_count": 2,
   "id": "ce44275d-0bb4-4daf-8174-5b568e476066",
   "metadata": {},
   "outputs": [],
   "source": [
    "def RSS(X, model,Y):\n",
    "    ret=0\n",
    "    return (X@model-Y).T@(X@model-Y)\n",
    "\n",
    "\n",
    "def TSS(X,Y):\n",
    "    return ret\n"
   ]
  },
  {
   "cell_type": "code",
   "execution_count": 3,
   "id": "23bee92d-a513-4704-8bdd-25e7f8b5a85a",
   "metadata": {},
   "outputs": [
    {
     "data": {
      "text/plain": [
       "(array([[1., 0., 0., 0., 0.],\n",
       "        [1., 0., 0., 0., 0.],\n",
       "        [0., 1., 0., 0., 0.],\n",
       "        [0., 1., 0., 0., 0.],\n",
       "        [0., 1., 0., 0., 0.],\n",
       "        [0., 1., 0., 0., 0.],\n",
       "        [0., 1., 0., 0., 0.],\n",
       "        [0., 1., 0., 0., 0.],\n",
       "        [0., 0., 1., 0., 0.],\n",
       "        [0., 0., 1., 0., 0.],\n",
       "        [0., 0., 1., 0., 0.],\n",
       "        [0., 0., 1., 0., 0.],\n",
       "        [0., 0., 1., 0., 0.],\n",
       "        [0., 0., 1., 0., 0.],\n",
       "        [0., 0., 1., 0., 0.],\n",
       "        [0., 0., 1., 0., 0.],\n",
       "        [0., 0., 1., 0., 0.],\n",
       "        [0., 0., 1., 0., 0.],\n",
       "        [0., 0., 1., 0., 0.],\n",
       "        [0., 0., 0., 1., 0.],\n",
       "        [0., 0., 0., 1., 0.],\n",
       "        [0., 0., 0., 1., 0.],\n",
       "        [0., 0., 0., 1., 0.],\n",
       "        [0., 0., 0., 0., 1.],\n",
       "        [0., 0., 0., 0., 1.]]),\n",
       " array([83, 85, 84, 85, 85, 86, 86, 87, 86, 87, 87, 87, 88, 88, 88, 88, 88,\n",
       "        89, 90, 89, 90, 90, 91, 90, 92]))"
      ]
     },
     "execution_count": 3,
     "metadata": {},
     "output_type": "execute_result"
    }
   ],
   "source": [
    "Y=np.array([83,85,\n",
    "           84,85,85,86,86,87,\n",
    "           86,87,87,87,88,88,88,88,88,89,90,\n",
    "           89,90,90,91,\n",
    "           90,92])\n",
    "X=np.zeros((len(Y),5))\n",
    "X[0:2,0]=1\n",
    "X[2:8,1]=1\n",
    "X[8:19,2]=1\n",
    "X[19:23,3]=1\n",
    "X[23:25,4]=1\n",
    "X,Y"
   ]
  },
  {
   "cell_type": "code",
   "execution_count": 4,
   "id": "a9f71f2b-8f14-4710-80ac-cf6ed916d699",
   "metadata": {},
   "outputs": [
    {
     "data": {
      "text/plain": [
       "(array([ 2.,  6., 11.,  4.,  2.]),\n",
       " array([0.5       , 0.16666667, 0.09090909, 0.25      , 0.5       ]))"
      ]
     },
     "execution_count": 4,
     "metadata": {},
     "output_type": "execute_result"
    }
   ],
   "source": [
    "F=X.T@X\n",
    "F_1=np.linalg.inv(F)\n",
    "F.diagonal(),F_1.diagonal()"
   ]
  },
  {
   "cell_type": "code",
   "execution_count": 5,
   "id": "255a8d20-89c0-4f4d-b72f-09b5ff0740c4",
   "metadata": {},
   "outputs": [
    {
     "data": {
      "text/plain": [
       "array([84.        , 85.5       , 87.81818182, 90.        , 91.        ])"
      ]
     },
     "execution_count": 5,
     "metadata": {},
     "output_type": "execute_result"
    }
   ],
   "source": [
    "model=F_1@X.T@Y\n",
    "model"
   ]
  },
  {
   "cell_type": "raw",
   "id": "37b98028-f6d1-4318-8f34-429325e5e673",
   "metadata": {},
   "source": [
    "H0: B_i == B_j\n",
    "H1: B_i != B_j"
   ]
  },
  {
   "cell_type": "code",
   "execution_count": 9,
   "id": "692a89d2-aec8-46b4-b105-fe616f9e7a72",
   "metadata": {},
   "outputs": [
    {
     "name": "stdout",
     "output_type": "stream",
     "text": [
      "Rss=np.float64(23.13636363636364)\n",
      "\u001b[31m  B_1==B_2 pval = 0.05155020445041343\u001b[0m\n",
      "\u001b[31m\t\tdelta=1.71\n",
      "\u001b[0m\n",
      "\u001b[32m  B_1==B_3 pval = 8.310072438777822e-05\u001b[0m\n",
      "\u001b[32m\t\tdelta=4.62\n",
      "\u001b[0m\n",
      "\u001b[32m  B_1==B_4 pval = 1.3910557503277491e-06\u001b[0m\n",
      "\u001b[32m\t\tdelta=6.44\n",
      "\u001b[0m\n",
      "\u001b[32m  B_1==B_5 pval = 1.2062851384167881e-06\u001b[0m\n",
      "\u001b[32m\t\tdelta=6.51\n",
      "\u001b[0m\n",
      "\u001b[32m  B_2==B_3 pval = 0.0001975200501670035\u001b[0m\n",
      "\u001b[32m\t\tdelta=4.25\n",
      "\u001b[0m\n",
      "\u001b[32m  B_2==B_4 pval = 1.2767362453664136e-06\u001b[0m\n",
      "\u001b[32m\t\tdelta=6.48\n",
      "\u001b[0m\n",
      "\u001b[32m  B_2==B_5 pval = 2.042591552504244e-06\u001b[0m\n",
      "\u001b[32m\t\tdelta=6.26\n",
      "\u001b[0m\n",
      "\u001b[32m  B_3==B_4 pval = 0.001196669352181163\u001b[0m\n",
      "\u001b[32m\t\tdelta=3.47\n",
      "\u001b[0m\n",
      "\u001b[32m  B_3==B_5 pval = 0.000501281453002286\u001b[0m\n",
      "\u001b[32m\t\tdelta=3.85\n",
      "\u001b[0m\n",
      "\u001b[31m  B_4==B_5 pval = 0.1478956761373736\u001b[0m\n",
      "\u001b[31m\t\tdelta=1.07\n",
      "\u001b[0m\n"
     ]
    }
   ],
   "source": [
    "Rss=RSS(X, model, Y)\n",
    "print(f\"{Rss=}\")\n",
    "pvals=[]\n",
    "for i in range(5):\n",
    "    for j in range(i+1,5):\n",
    "        delta = (model[j]-model[i])/(Rss*(F_1[i,i]+F_1[j,j]))**0.5*(len(Y)-5)**0.5\n",
    "        pvals.append(t.sf(delta,len(Y)-5))\n",
    "        colors= \"green\" if 0.05>pvals[-1] else \"red\"\n",
    "        rprint(f\"  B_{i+1}==B_{j+1} pval = {pvals[-1]}\",colors)\n",
    "        rprint(f\"\\t\\t{delta=:.2f}\\n\",colors)"
   ]
  },
  {
   "cell_type": "raw",
   "id": "daa810dc-9d31-451e-9f1d-aa7000c1527e",
   "metadata": {},
   "source": [
    "Всего гепотез 10 (=m)\n"
   ]
  },
  {
   "cell_type": "code",
   "execution_count": 14,
   "id": "490bf60b-38c4-4c2d-8484-72752495f70c",
   "metadata": {},
   "outputs": [
    {
     "name": "stdout",
     "output_type": "stream",
     "text": [
      "1.2e-06 1.3e-06 1.4e-06 2e-06 8.31e-05 0.0001975 0.0005013 0.0011967 0.0515502 0.1478957\n",
      "(pval отсортирован)\n",
      "\u001b[32malf/10\t = 0.0050\n",
      "pval[ 1] = 0.000001 => не \"выкидываем\"\n",
      "\u001b[0m\n",
      "\u001b[32malf/9\t = 0.0056\n",
      "pval[ 2] = 0.000001 => не \"выкидываем\"\n",
      "\u001b[0m\n",
      "\u001b[32malf/8\t = 0.0063\n",
      "pval[ 3] = 0.000001 => не \"выкидываем\"\n",
      "\u001b[0m\n",
      "\u001b[32malf/7\t = 0.0071\n",
      "pval[ 4] = 0.000002 => не \"выкидываем\"\n",
      "\u001b[0m\n",
      "\u001b[32malf/6\t = 0.0083\n",
      "pval[ 5] = 0.000083 => не \"выкидываем\"\n",
      "\u001b[0m\n",
      "\u001b[32malf/5\t = 0.0100\n",
      "pval[ 6] = 0.000198 => не \"выкидываем\"\n",
      "\u001b[0m\n",
      "\u001b[32malf/4\t = 0.0125\n",
      "pval[ 7] = 0.000501 => не \"выкидываем\"\n",
      "\u001b[0m\n",
      "\u001b[32malf/3\t = 0.0167\n",
      "pval[ 8] = 0.001197 => не \"выкидываем\"\n",
      "\u001b[0m\n",
      "\u001b[31malf/2\t = 0.0250\n",
      "pval[ 9] = 0.051550 => \"выкидываем\"\n",
      "\u001b[0m\n",
      "\u001b[31malf/1\t = 0.0500\n",
      "pval[10] = 0.147896 => \"выкидываем\"\n",
      "\u001b[0m\n"
     ]
    }
   ],
   "source": [
    "pvals=sorted(pvals)\n",
    "print(*[round(i,7) for i in pvals])\n",
    "print(\"(pval отсортирован)\")\n",
    "for i in range(10,0,-1):\n",
    "    rprint(f\"alf/{i}\\t = {0.05/i:.4f}\\n\\\n",
    "pval[{10-i+1:2d}] = {pvals[10-i]:.6f} =>{\" не\" if 0.05/i>pvals[10-i] else \"\"} \\\"выкидываем\\\"\\n\",\\\n",
    "          colors= \"green\" if 0.05/i>pvals[10-i] else \"red\")"
   ]
  },
  {
   "cell_type": "code",
   "execution_count": null,
   "id": "a02e38d1-9471-457e-96cf-34e2a48121c0",
   "metadata": {},
   "outputs": [],
   "source": []
  }
 ],
 "metadata": {
  "kernelspec": {
   "display_name": "Python 3 (ipykernel)",
   "language": "python",
   "name": "python3"
  },
  "language_info": {
   "codemirror_mode": {
    "name": "ipython",
    "version": 3
   },
   "file_extension": ".py",
   "mimetype": "text/x-python",
   "name": "python",
   "nbconvert_exporter": "python",
   "pygments_lexer": "ipython3",
   "version": "3.13.2"
  }
 },
 "nbformat": 4,
 "nbformat_minor": 5
}
