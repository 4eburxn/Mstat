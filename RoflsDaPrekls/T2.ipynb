{
 "cells": [
  {
   "cell_type": "code",
   "execution_count": 1,
   "id": "3eeafe42-59d2-42c5-8553-588fb4fcedc3",
   "metadata": {},
   "outputs": [],
   "source": [
    "import numpy as np\n",
    "import matplotlib.pyplot as plt\n",
    "from scipy.stats import norm,t,uniform,f\n",
    "from sklearn.linear_model import LinearRegression\n",
    "import termcolor\n",
    "from numba import jit\n",
    "\n",
    "def rprint(string):\n",
    "    print(termcolor.colored(string, color='green'))"
   ]
  },
  {
   "cell_type": "code",
   "execution_count": 17,
   "id": "ce44275d-0bb4-4daf-8174-5b568e476066",
   "metadata": {},
   "outputs": [],
   "source": [
    "def RSS(X, model):\n",
    "    ret=0\n",
    "    for i in X:\n",
    "        ret+=(i[:-1]@model[1:].T+model[0]-i[-1])**2\n",
    "    return ret\n",
    "\n",
    "\n",
    "def TSS(X):\n",
    "    ret=np.sum((X[:,-1]-np.sum(X[:,-1])/len(X))**2)\n",
    "    return ret\n"
   ]
  },
  {
   "cell_type": "code",
   "execution_count": 14,
   "id": "23bee92d-a513-4704-8bdd-25e7f8b5a85a",
   "metadata": {},
   "outputs": [
    {
     "data": {
      "text/plain": [
       "(array([[1., 0., 0., 0., 0.],\n",
       "        [1., 0., 0., 0., 0.],\n",
       "        [0., 1., 0., 0., 0.],\n",
       "        [0., 1., 0., 0., 0.],\n",
       "        [0., 1., 0., 0., 0.],\n",
       "        [0., 1., 0., 0., 0.],\n",
       "        [0., 1., 0., 0., 0.],\n",
       "        [0., 1., 0., 0., 0.],\n",
       "        [0., 0., 1., 0., 0.],\n",
       "        [0., 0., 1., 0., 0.],\n",
       "        [0., 0., 1., 0., 0.],\n",
       "        [0., 0., 1., 0., 0.],\n",
       "        [0., 0., 1., 0., 0.],\n",
       "        [0., 0., 1., 0., 0.],\n",
       "        [0., 0., 1., 0., 0.],\n",
       "        [0., 0., 1., 0., 0.],\n",
       "        [0., 0., 1., 0., 0.],\n",
       "        [0., 0., 1., 0., 0.],\n",
       "        [0., 0., 1., 0., 0.],\n",
       "        [0., 0., 0., 1., 0.],\n",
       "        [0., 0., 0., 1., 0.],\n",
       "        [0., 0., 0., 1., 0.],\n",
       "        [0., 0., 0., 1., 0.],\n",
       "        [0., 0., 0., 0., 1.],\n",
       "        [0., 0., 0., 0., 1.]]),\n",
       " array([83, 85, 84, 85, 85, 86, 86, 87, 86, 87, 87, 87, 88, 88, 88, 88, 88,\n",
       "        89, 90, 89, 90, 90, 91, 90, 92]))"
      ]
     },
     "execution_count": 14,
     "metadata": {},
     "output_type": "execute_result"
    }
   ],
   "source": [
    "Y=np.array([83,85,\n",
    "           84,85,85,86,86,87,\n",
    "           86,87,87,87,88,88,88,88,88,89,90,\n",
    "           89,90,90,91,\n",
    "           90,92])\n",
    "X=np.zeros((len(Y),5))\n",
    "X[0:2,0]=1\n",
    "X[2:8,1]=1\n",
    "X[8:19,2]=1\n",
    "X[19:23,3]=1\n",
    "X[23:25,4]=1\n",
    "X,Y"
   ]
  },
  {
   "cell_type": "code",
   "execution_count": 15,
   "id": "a9f71f2b-8f14-4710-80ac-cf6ed916d699",
   "metadata": {},
   "outputs": [
    {
     "data": {
      "text/plain": [
       "(array([[ 2.,  0.,  0.,  0.,  0.],\n",
       "        [ 0.,  6.,  0.,  0.,  0.],\n",
       "        [ 0.,  0., 11.,  0.,  0.],\n",
       "        [ 0.,  0.,  0.,  4.,  0.],\n",
       "        [ 0.,  0.,  0.,  0.,  2.]]),\n",
       " array([[0.5       , 0.        , 0.        , 0.        , 0.        ],\n",
       "        [0.        , 0.16666667, 0.        , 0.        , 0.        ],\n",
       "        [0.        , 0.        , 0.09090909, 0.        , 0.        ],\n",
       "        [0.        , 0.        , 0.        , 0.25      , 0.        ],\n",
       "        [0.        , 0.        , 0.        , 0.        , 0.5       ]]))"
      ]
     },
     "execution_count": 15,
     "metadata": {},
     "output_type": "execute_result"
    }
   ],
   "source": [
    "F=X.T@X\n",
    "F_1=np.linalg.inv(F)\n",
    "F,F_1"
   ]
  },
  {
   "cell_type": "code",
   "execution_count": 16,
   "id": "255a8d20-89c0-4f4d-b72f-09b5ff0740c4",
   "metadata": {},
   "outputs": [
    {
     "data": {
      "text/plain": [
       "array([84.        , 85.5       , 87.81818182, 90.        , 91.        ])"
      ]
     },
     "execution_count": 16,
     "metadata": {},
     "output_type": "execute_result"
    }
   ],
   "source": [
    "model=F_1@X.T@Y\n",
    "model"
   ]
  },
  {
   "cell_type": "raw",
   "id": "37b98028-f6d1-4318-8f34-429325e5e673",
   "metadata": {},
   "source": [
    "H0: B_i == B_j\n",
    "H1: B_i != B_j"
   ]
  },
  {
   "cell_type": "code",
   "execution_count": 21,
   "id": "692a89d2-aec8-46b4-b105-fe616f9e7a72",
   "metadata": {},
   "outputs": [
    {
     "name": "stdout",
     "output_type": "stream",
     "text": [
      "\u001b[32m  B_1==B_2 pval = 0.4994962524505619\u001b[0m\n",
      "\u001b[32m  B_1==B_3 pval = 0.4985533433702338\u001b[0m\n",
      "\u001b[32m  B_1==B_4 pval = 0.4982089035674374\u001b[0m\n",
      "\u001b[32m  B_1==B_5 pval = 0.49843278929304613\u001b[0m\n",
      "\u001b[32m  B_2==B_3 pval = 0.49798501844912185\u001b[0m\n",
      "\u001b[32m  B_2==B_4 pval = 0.49758202700883564\u001b[0m\n",
      "\u001b[32m  B_2==B_5 pval = 0.49815293222795953\u001b[0m\n",
      "\u001b[32m  B_3==B_4 pval = 0.49856712098833356\u001b[0m\n",
      "\u001b[32m  B_3==B_5 pval = 0.49879445193941274\u001b[0m\n",
      "\u001b[32m  B_4==B_5 pval = 0.49970148287825483\u001b[0m\n"
     ]
    }
   ],
   "source": [
    "Rss=RSS(X, model)\n",
    "for i in range(5):\n",
    "    for j in range(i+1,5):\n",
    "        delta = (model[j]-model[i])/(Rss*(F_1[i,i]+F_1[j,j]))*(len(Y)-5)**2\n",
    "        rprint(f\"  B_{i+1}==B_{j+1} pval = {t.sf(delta,len(Y)-5)}\")"
   ]
  },
  {
   "cell_type": "code",
   "execution_count": null,
   "id": "37299476-fc7b-4b93-a91c-eb2cdc2f4db1",
   "metadata": {},
   "outputs": [],
   "source": []
  }
 ],
 "metadata": {
  "kernelspec": {
   "display_name": "Python 3 (ipykernel)",
   "language": "python",
   "name": "python3"
  },
  "language_info": {
   "codemirror_mode": {
    "name": "ipython",
    "version": 3
   },
   "file_extension": ".py",
   "mimetype": "text/x-python",
   "name": "python",
   "nbconvert_exporter": "python",
   "pygments_lexer": "ipython3",
   "version": "3.13.2"
  }
 },
 "nbformat": 4,
 "nbformat_minor": 5
}
