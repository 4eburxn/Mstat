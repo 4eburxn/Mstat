{
 "cells": [
  {
   "cell_type": "code",
   "execution_count": 1,
   "id": "16bbbad8-2b98-421a-893b-5ea194a5a1dd",
   "metadata": {},
   "outputs": [],
   "source": [
    "import numpy as np\n",
    "import matplotlib.pyplot as plt\n",
    "from scipy.stats import norm,t,uniform,f\n",
    "from sklearn.linear_model import LinearRegression\n",
    "import termcolor\n",
    "from numba import jit\n",
    "\n",
    "def rprint(string):\n",
    "    print(termcolor.colored(string, color='green'))"
   ]
  },
  {
   "cell_type": "code",
   "execution_count": 2,
   "id": "4e9a139f-f72e-41a6-9c67-8668153b1747",
   "metadata": {},
   "outputs": [],
   "source": [
    "##njit compile\n",
    "\n",
    "@jit(fastmath=True,parallel=True,inline='always')\n",
    "def linear_regression_numba(X, y):\n",
    "    X_with_intercept = np.column_stack((np.ones(X.shape[0]), X))\n",
    "    theta = np.linalg.inv(X_with_intercept.T @ X_with_intercept) @ X_with_intercept.T @ y\n",
    "    return theta\n",
    "\n",
    "@jit(fastmath=True)\n",
    "def RSS(X, model):\n",
    "    ret=0\n",
    "    for i in X:\n",
    "        ret+=(i[:-1]@model[1:].T+model[0]-i[-1])**2\n",
    "    return ret\n",
    "\n",
    "@jit(fastmath=True,parallel=True,nogil=True)\n",
    "def getdeltas(X, bsN):\n",
    "    deltai = np.zeros((bsN, 6))\n",
    "    рэсэсы = np.zeros(bsN)\n",
    "    n_samples = len(X)\n",
    "    \n",
    "    for i in range(bsN):\n",
    "        indices = np.random.randint(0, n_samples, size=n_samples)\n",
    "        X0 = X[indices]\n",
    "        X_features = X0[:, :5]\n",
    "        y = X0[:, -1]\n",
    "        deltai[i] = linear_regression_numba(X_features, y)\n",
    "        рэсэсы[i] = RSS(X, deltai[i])\n",
    "    deltai=deltai.T\n",
    "    deltai=np.sort(deltai)\n",
    "    рэсэсы=np.sort(рэсэсы)\n",
    "    return deltai,рэсэсы\n",
    "\n",
    "\n",
    "def normal_bs(sgm, bsN):\n",
    "    нормисы = np.zeros(bsN)\n",
    "    нормисы = np.random.normal(0, sgm, bsN)\n",
    "    нормисы=np.sort(нормисы)\n",
    "    return нормисы\n",
    "\n",
    "def TSS(X):\n",
    "    ret=np.sum((X[:,-1]-np.sum(X[:,-1])/len(X))**2)\n",
    "    return ret\n"
   ]
  },
  {
   "cell_type": "code",
   "execution_count": 3,
   "id": "c3eb4fc6-25c2-4ee8-ab75-fa3c12a2d757",
   "metadata": {},
   "outputs": [],
   "source": [
    "def generate(N):\n",
    "    ret = np.array([np.zeros(6) for i in range(N)])\n",
    "    _=uniform(loc=-1, scale=2)\n",
    "    for i in range(N):\n",
    "        ret[i,:5]=_.rvs(size=5)\n",
    "        x1,x2,x3,x4,x5=ret[i,:5]\n",
    "        ret[i,5]=np.random.normal(2+3*x1-2*x2+x3+x4-x5, 1.5)\n",
    "        print(*[round(i,2) if i<0 else \"+\"+str(round(i,2)) for i in ret[i]],sep=\"\\t\")\n",
    "    return ret"
   ]
  },
  {
   "cell_type": "code",
   "execution_count": 4,
   "id": "bb35fd61-130b-41d1-8c1f-d1cfe8c1a287",
   "metadata": {},
   "outputs": [
    {
     "name": "stdout",
     "output_type": "stream",
     "text": [
      "-0.01\t+0.91\t+0.36\t+0.68\t+0.53\t+0.54\n",
      "+0.25\t+0.7\t-0.74\t-0.46\t+0.58\t-1.07\n",
      "+0.5\t+0.31\t-0.28\t-0.74\t+0.95\t-0.03\n",
      "-0.4\t-0.94\t-0.06\t-0.26\t-0.29\t+1.52\n",
      "+0.61\t-0.6\t-0.05\t-0.92\t-0.65\t+5.95\n",
      "-0.09\t-0.02\t-0.98\t+0.08\t-0.67\t+0.92\n",
      "+0.78\t+0.56\t+0.14\t+0.23\t+0.93\t-1.14\n",
      "-0.21\t+0.63\t-0.35\t+0.68\t+0.31\t+1.19\n",
      "-0.54\t-0.21\t-0.45\t+0.72\t-0.54\t+0.66\n",
      "-0.55\t-0.48\t-0.47\t-0.89\t+0.21\t+0.29\n",
      "+0.85\t-0.76\t+0.13\t-0.09\t+0.72\t+7.76\n",
      "-0.99\t-0.12\t-0.57\t+0.59\t-0.47\t+1.31\n",
      "+0.51\t-0.6\t-0.47\t-0.92\t-0.02\t+3.16\n",
      "-0.53\t-0.55\t+0.6\t+0.81\t-0.58\t+6.37\n",
      "+0.89\t-0.28\t+0.2\t+0.85\t-0.21\t+7.94\n",
      "-0.13\t+0.08\t+0.92\t-0.59\t+0.9\t+1.34\n",
      "+0.12\t-0.74\t+0.94\t-0.14\t-0.98\t+7.9\n",
      "-0.61\t-0.14\t+0.44\t-0.93\t+0.27\t-0.81\n",
      "+0.81\t-0.69\t-0.36\t+0.58\t-0.42\t+5.78\n",
      "-0.5\t+0.45\t+0.01\t+0.13\t+0.77\t-0.18\n",
      "+0.69\t+0.09\t-0.81\t-0.67\t+0.75\t+1.77\n",
      "+0.95\t-0.99\t-0.49\t-0.52\t+0.49\t+5.93\n",
      "+0.78\t-0.65\t-0.35\t-0.74\t+0.36\t+1.23\n",
      "+0.39\t+0.24\t+0.82\t-0.73\t+0.21\t+2.04\n",
      "-0.98\t-0.14\t-0.32\t+0.55\t+0.05\t+1.2\n",
      "-0.7\t-0.77\t-0.21\t+0.26\t-0.09\t+3.34\n",
      "+0.93\t-0.52\t-0.82\t-0.63\t-0.18\t+3.88\n",
      "-0.65\t-0.5\t+0.33\t-0.45\t-0.48\t+3.96\n",
      "-0.16\t+0.7\t-0.41\t+0.41\t+0.84\t-0.3\n",
      "+0.05\t-0.25\t+0.49\t+0.05\t+0.97\t+2.16\n",
      "-0.86\t+0.77\t-0.49\t+0.25\t+0.5\t-1.91\n",
      "+0.98\t+0.92\t+0.45\t-0.84\t-0.01\t+1.65\n",
      "-0.83\t-0.12\t+0.76\t-0.86\t+0.24\t-2.72\n",
      "-0.69\t+0.28\t-0.83\t-0.5\t+0.24\t-1.87\n",
      "+0.91\t+0.64\t+0.57\t-0.51\t-0.49\t+2.74\n",
      "-0.23\t+0.31\t-0.72\t-0.19\t+0.35\t-0.27\n",
      "+0.25\t-0.71\t-0.63\t+0.49\t+0.7\t+5.07\n",
      "-0.58\t-0.97\t+0.03\t-0.19\t+0.64\t-0.97\n",
      "+0.45\t+0.34\t+0.48\t-0.69\t-0.44\t+2.9\n",
      "+0.9\t-0.78\t-0.59\t+0.93\t+0.17\t+7.76\n",
      "+0.5\t+0.02\t-0.4\t+0.73\t-0.57\t+6.68\n",
      "+0.39\t+0.98\t-0.94\t+0.24\t+0.75\t-0.28\n",
      "-0.93\t+0.33\t+0.39\t-0.14\t+0.31\t-1.43\n",
      "-0.7\t+0.48\t+0.65\t-0.63\t+0.05\t-3.09\n",
      "+0.94\t+0.15\t+0.12\t+0.33\t-0.56\t+8.41\n",
      "-0.02\t-0.41\t-0.9\t-0.75\t-0.18\t+3.53\n",
      "+0.46\t-0.65\t+0.19\t-0.96\t-0.0\t+4.24\n",
      "+0.8\t+0.31\t+0.44\t+0.78\t+0.88\t+5.89\n",
      "-0.91\t+0.93\t-0.93\t+0.05\t-0.06\t-4.71\n",
      "+0.72\t-0.08\t-0.32\t-0.77\t+0.41\t+2.35\n"
     ]
    }
   ],
   "source": [
    "N=50\n",
    "X=generate(N)"
   ]
  },
  {
   "cell_type": "code",
   "execution_count": 5,
   "id": "e8eebf24-d571-418b-99c6-0f3971f685cd",
   "metadata": {},
   "outputs": [
    {
     "name": "stdout",
     "output_type": "stream",
     "text": [
      "\u001b[32ma) не являются\n",
      "|F| = 53102520.8 >> 1\u001b[0m\n"
     ]
    }
   ],
   "source": [
    "nonetha = np.ones(X.shape)\n",
    "nonetha[:,1:] = X[:,:5]\n",
    "nonetha[:,0] = 1\n",
    "F = nonetha.T.dot(nonetha)\n",
    "#print(F)\n",
    "rprint(f\"a) не являются\\n|F| = {round(np.linalg.det(F),2)} >> 1\")"
   ]
  },
  {
   "cell_type": "code",
   "execution_count": 6,
   "id": "3a5fdc28-f148-4bf6-abbc-cc9761b55537",
   "metadata": {},
   "outputs": [
    {
     "name": "stderr",
     "output_type": "stream",
     "text": [
      "/tmp/ipykernel_27812/4170485442.py:6: NumbaPerformanceWarning: \u001b[1m\u001b[1m'@' is faster on contiguous arrays, called on (Array(float64, 2, 'C', False, aligned=True), Array(float64, 1, 'A', False, aligned=True))\u001b[0m\u001b[0m\n",
      "  theta = np.linalg.inv(X_with_intercept.T @ X_with_intercept) @ X_with_intercept.T @ y\n"
     ]
    },
    {
     "data": {
      "text/plain": [
       "array([ 2.40919535,  2.97402698, -2.55357499,  1.04826117,  1.96380455,\n",
       "       -1.55819162])"
      ]
     },
     "execution_count": 6,
     "metadata": {},
     "output_type": "execute_result"
    }
   ],
   "source": [
    "model = linear_regression_numba(nonetha[:,1:], X[:,-1])\n",
    "model"
   ]
  },
  {
   "cell_type": "raw",
   "id": "58f16c04-16e6-4862-8e8f-558a03ce609b",
   "metadata": {
    "jupyter": {
     "source_hidden": true
    }
   },
   "source": [
    "alf = 0.05\n",
    "k1 = int(alf*bsN)\n",
    "k2 = bsN-k1\n",
    "\n",
    "print(*[round(i,2) if i<0 else \"+\"+str(round(i,2)) for i in deltas[:,k1]], sep=\"\\t\")\n",
    "print(*[round(i,2) if i<0 else \"+\"+str(round(i,2)) for i in deltas[:,k2]], sep=\"\\t\")\n",
    "rprint(\"b)Все коэффициенты незначемы...\")"
   ]
  },
  {
   "cell_type": "markdown",
   "id": "17082c01-c463-465f-bac9-e45f4894b597",
   "metadata": {},
   "source": [
    "$ H_0:B_i=0 $\n",
    "\n",
    "$ H_1:B_i\\neq0 $\n",
    "\n",
    "## $ \\Delta=\\frac{B_i}{(RSS \\cdot F_{ii}^{-1})}\\sqrt{n-p} \\sim t(n-p) $"
   ]
  },
  {
   "cell_type": "code",
   "execution_count": 7,
   "id": "2620b650-a294-42b1-ae03-c9856c533b86",
   "metadata": {},
   "outputs": [
    {
     "name": "stdout",
     "output_type": "stream",
     "text": [
      "[8.36461294e-15 8.51386831e-13 9.99999994e-01 3.12502446e-03\n",
      " 2.99648295e-07 9.99836825e-01]\n",
      "\u001b[32mb) значимость определяется на генерацию\u001b[0m\n",
      "\u001b[32m   β_i: 2.40919535  2.97402698 -2.55357499  1.04826117  1.96380455 -1.5581916\u001b[0m\n"
     ]
    },
    {
     "name": "stderr",
     "output_type": "stream",
     "text": [
      "/tmp/ipykernel_27812/4170485442.py:13: NumbaPerformanceWarning: \u001b[1m\u001b[1m'@' is faster on contiguous arrays, called on (Array(float64, 1, 'A', False, aligned=True), Array(float64, 1, 'C', False, aligned=True))\u001b[0m\u001b[0m\n",
      "  ret+=(i[:-1]@model[1:].T+model[0]-i[-1])**2\n"
     ]
    }
   ],
   "source": [
    "F_1=np.linalg.inv(F)\n",
    "Rss=RSS(X, model)\n",
    "delta = model/np.sqrt(Rss*F_1.diagonal())*(N-6)**0.5\n",
    "print(t.sf(delta,N-6))\n",
    "rprint(\"b) значимость определяется на генерацию\")\n",
    "rprint(\"   β_i:\"+str(model)[1:-2])\n",
    "i=7\n",
    "#print(np.array(model[1:]).dot(nonetha[i])+model[0], X[i,-1])"
   ]
  },
  {
   "cell_type": "code",
   "execution_count": 8,
   "id": "777d15a9-afce-40b7-a89f-7133c9ff74c4",
   "metadata": {},
   "outputs": [
    {
     "name": "stderr",
     "output_type": "stream",
     "text": [
      "/tmp/ipykernel_27812/4170485442.py:6: NumbaPerformanceWarning: \u001b[1m\u001b[1m'@' is faster on contiguous arrays, called on (Array(float64, 2, 'C', False, aligned=True), Array(float64, 1, 'A', False, aligned=True))\u001b[0m\u001b[0m\n",
      "  theta = np.linalg.inv(X_with_intercept.T @ X_with_intercept) @ X_with_intercept.T @ y\n"
     ]
    }
   ],
   "source": [
    "bsN=5000\n",
    "deltas,ы=getdeltas(X, bsN)\n",
    "b = 0.95\n",
    "alf = (1-b)/2\n",
    "k1 = int(alf*bsN)\n",
    "k2 = bsN-k1"
   ]
  },
  {
   "cell_type": "markdown",
   "id": "d47c786a-815b-469b-b0dd-fd2a7e4692a9",
   "metadata": {},
   "source": [
    "### $ H_0:\\forall i \\to B_i\\neq0 $\n",
    "\n",
    "### $ H_1:\\exists j \\to B_j=0 $\n",
    "\n",
    "## $ \\Delta=\\frac{\\frac{TSS-RSS}{p-1} }{\\frac{RSS}{n-p} }\\sqrt{n-p} \\sim F(p-1,n-p)$"
   ]
  },
  {
   "cell_type": "code",
   "execution_count": 9,
   "id": "eec05979-1ac3-4854-b482-9e11f8b3991e",
   "metadata": {},
   "outputs": [
    {
     "name": "stdout",
     "output_type": "stream",
     "text": [
      "\u001b[32mc) 0.8335950506551435\u001b[0m\n",
      "\u001b[32m   R^2 не попадает в доверительный интервал BS (на всякий случай)\n",
      "   (0.77025, 0.82905)\n",
      "\u001b[0m\n",
      "\u001b[32m   pval=np.float64(4.77162270259374e-16)\n",
      "   Отвергаем H0 =>...=> не значим\u001b[0m\n"
     ]
    }
   ],
   "source": [
    "Rss,Tss=RSS(X,model),TSS(X)\n",
    "\n",
    "_=1-Rss/Tss\n",
    "rprint(f\"c) {_}\")\n",
    "_1,_2=1-ы[k1]/TSS(X),1-ы[k2]/TSS(X)\n",
    "rprint(f\"\"\"   R^2 {\"\" if _2<_<_1 else \"не\"} попадает в доверительный интервал BS (на всякий случай)\n",
    "   ({round(_2,5)}, {round(_1,5)})\\n\"\"\")\n",
    "delta = (Tss-Rss)/5/(Rss/(N-6))\n",
    "pval=f.sf(delta,5,N-6)\n",
    "rprint(f\"   {pval=}\\n   Отвергаем H0 =>...=> не значим\")"
   ]
  },
  {
   "cell_type": "code",
   "execution_count": 10,
   "id": "19b716e3-6011-450a-a91b-47e82589acdd",
   "metadata": {},
   "outputs": [
    {
     "name": "stdout",
     "output_type": "stream",
     "text": [
      "\u001b[32md) при x_k==0 значение будет 2.4092\u001b[0m\n",
      "\u001b[32m   доверительный интервал: (1.9741, 2.8139)\u001b[0m\n"
     ]
    }
   ],
   "source": [
    "rprint(f\"d) при x_k==0 значение будет {round(model[0],4)}\")\n",
    "rprint(f\"   доверительный интервал: ({round(deltas[0,k1],4)}, {round(deltas[0,k2],4)})\")"
   ]
  },
  {
   "cell_type": "markdown",
   "id": "232c4781-c3ea-4093-8984-949aedd3e015",
   "metadata": {},
   "source": [
    "# $ \\Delta=\\frac{I_n-\\frac{n(n-1)}{4} }{\\sqrt{\\frac{n^3}{36} } } \\sim F(p-1,n-p)$"
   ]
  },
  {
   "cell_type": "code",
   "execution_count": 11,
   "id": "ecdc4b43-72e2-4a18-a6aa-d890a0b170f9",
   "metadata": {},
   "outputs": [
    {
     "name": "stdout",
     "output_type": "stream",
     "text": [
      "\u001b[32me) pval=np.float64(0.709369350034898)\n",
      "   Не отвергаем H0 => независимы\u001b[0m\n"
     ]
    }
   ],
   "source": [
    "e = [i[:-1]@model[1:].T+model[0]-i[-1] for i in X]\n",
    "In=0\n",
    "for i in range(len(X)):\n",
    "    for j in range(i+1,len(X)):\n",
    "        In+=e[i]<e[j]\n",
    "\n",
    "delta = (In-N*(N-1)/4)/(N**3/36)**0.5\n",
    "pval=norm.sf(delta)\n",
    "\n",
    "rprint(f\"e) {pval=}\\n   Не отвергаем H0 => независимы\")"
   ]
  },
  {
   "cell_type": "code",
   "execution_count": 12,
   "id": "1e533b5d-6211-4164-bd5c-431cc907b3a0",
   "metadata": {},
   "outputs": [
    {
     "name": "stdout",
     "output_type": "stream",
     "text": [
      "\u001b[32mf) pval=np.float64(0.60324)\n",
      "   Не отвергаем H0 => Распределено нормально\u001b[0m\n"
     ]
    }
   ],
   "source": [
    "#Калмогоров\n",
    "bsN=100000\n",
    "sgm = Rss/(N-6)\n",
    "sgm\n",
    "deltas=normal_bs(sgm,bsN)\n",
    "pval=np.where((deltas)*N**0.5 > np.max(e))[0][0]/bsN\n",
    "rprint(f\"f) {pval=}\\n   Не отвергаем H0 => Распределено нормально\")"
   ]
  },
  {
   "cell_type": "markdown",
   "id": "c9196cce-2451-4a69-91fc-e12a93431998",
   "metadata": {},
   "source": []
  },
  {
   "cell_type": "code",
   "execution_count": 13,
   "id": "667df3eb-c121-4511-ab77-ac49b9091a77",
   "metadata": {},
   "outputs": [
    {
     "name": "stdout",
     "output_type": "stream",
     "text": [
      "\u001b[32mg) Выбросов нет\u001b[0m\n"
     ]
    },
    {
     "data": {
      "image/png": "[encoded data removed]",
      "text/plain": [
       "<Figure size 1000x500 with 2 Axes>"
      ]
     },
     "metadata": {},
     "output_type": "display_data"
    }
   ],
   "source": [
    "fig, (ax1,ax2) = plt.subplots(2,1,figsize=(10,5))\n",
    "rprint(\"g) Выбросов нет\") #FIXME\n",
    "\n",
    "\n",
    "e1 = np.sort(e)\n",
    "ax1.plot([1,1],[e1[3*N//4],e1[-1]],linestyle='dotted',linewidth=1, color=\"black\")\n",
    "ax1.plot([1,1],[e1[0],e1[N//4]],linestyle='dotted',linewidth=1, color=\"black\")\n",
    "box=ax1.boxplot(e1,showfliers=False)\n",
    "ax2.scatter([i+1 for i in range(N)],e)\n",
    "plt.grid(True, linestyle='--', alpha=0.6, color='#bdc3c7')\n",
    "\n",
    "ax = plt.gca()\n",
    "ax.spines['top'].set_visible(False)\n",
    "ax.spines['right'].set_visible(False)\n",
    "ax.spines['left'].set_color('#7f8c8d')\n",
    "ax.spines['bottom'].set_color('#7f8c8d')\n",
    "\n",
    "plt.tight_layout()\n"
   ]
  },
  {
   "cell_type": "code",
   "execution_count": 14,
   "id": "38890d33-193e-4ba5-b8df-e59aff4feb29",
   "metadata": {},
   "outputs": [
    {
     "name": "stdout",
     "output_type": "stream",
     "text": [
      "\u001b[32mh) CUSS = 110.64894106748054\u001b[0m\n",
      "\u001b[32m   R_cu^2 = 0.7844355978351499\n",
      "   предсказательная способность есть(не нулевая)\u001b[0m\n"
     ]
    }
   ],
   "source": [
    "CUSS=0\n",
    "for i in range(len(X)):\n",
    "    X0=X[[j!=i for j in range(len(X))]]\n",
    "    model_=linear_regression_numba(X0[:,:-1], X0[:,-1])\n",
    "    p=X[i]\n",
    "    CUSS+=(p[:-1]@model_[1:].T+model_[0]-p[-1])**2\n",
    "rprint(f\"h) CUSS = {float(CUSS)}\")\n",
    "rprint(f\"   R_cu^2 = {(Tss-CUSS)/Tss}\\n   предсказательная способность есть(не нулевая)\")\n"
   ]
  },
  {
   "cell_type": "markdown",
   "id": "06e8d460-7040-4aaa-bfc0-6593ea2c33ae",
   "metadata": {},
   "source": [
    "## $ \\tilde{\\delta_1^2}=\\frac{1}{l-1} \\sum_{i=1}^l {( y_i-\\bar{y} )}^2 $\n",
    "\n",
    "# $ \\Delta=\\frac{\\frac{RSS}{n-p} }{ \\tilde{\\delta_1^2} } \\sim F(n-p,l-1)$"
   ]
  },
  {
   "cell_type": "code",
   "execution_count": 15,
   "id": "5f5f4e9f-b331-4d9b-a570-76477a1ba4ab",
   "metadata": {},
   "outputs": [
    {
     "name": "stdout",
     "output_type": "stream",
     "text": [
      "\u001b[32mi) pval=0.9999999999250974\n",
      "   не отвергаем H0 =>\n",
      "                    (Модель адекватна)\u001b[0m\n"
     ]
    }
   ],
   "source": [
    "p=X[np.random.randint(N)]\n",
    "sgm2=5/4*((np.mean(X[:,-1])-p[-1])**2)\n",
    "delta = Rss/(N-6)/sgm2\n",
    "pval=f.sf(delta,N-6,5-1)\n",
    "\n",
    "rprint(f\"\"\"i) pval={float(pval)}\\n   {\"\" if pval<0.05 else \"не\"} отвергаем H0 =>\n",
    "                    (Модель {\"не\" if pval<0.05 else \"\"}адекватна)\"\"\")"
   ]
  },
  {
   "cell_type": "code",
   "execution_count": 16,
   "id": "b5f16857-0aff-4a5f-b8b8-e19ab4b20818",
   "metadata": {},
   "outputs": [
    {
     "name": "stdout",
     "output_type": "stream",
     "text": [
      "[8.36461294e-15 8.51386831e-13 9.99999994e-01 3.12502446e-03\n",
      " 2.99648295e-07 9.99836825e-01]\n",
      "0.9998632931464362\n"
     ]
    }
   ],
   "source": [
    "def Покупка_обезьяны():\n",
    "    return \"-100руб\"\n",
    "\n",
    "def Запрос_alf_от_обезьяны(mx):\n",
    "    return np.random.rand()*mx\n",
    "\n",
    "def Обезьяна_гений_знак_вопроса(delta, alf):\n",
    "    return len(np.where(delta>alf)[0])==1\n",
    "\n",
    "def Продажа_обезьяны():\n",
    "    return \"+105руб\"\n",
    "\n",
    "delta = model/np.sqrt(Rss*F_1.diagonal())*(N-6)**0.5\n",
    "pvals=t.sf(delta,N-6)\n",
    "alf=0\n",
    "while(True):\n",
    "    Покупка_обезьяны()\n",
    "    alf = Запрос_alf_от_обезьяны(np.max(pvals))\n",
    "    if Обезьяна_гений_знак_вопроса(pvals, alf):\n",
    "        break\n",
    "    Продажа_обезьяны()\n",
    "\n",
    "print(pvals)\n",
    "print(alf)"
   ]
  },
  {
   "cell_type": "code",
   "execution_count": 17,
   "id": "858c52ca-f86f-4fb5-80d0-66f4ba735f17",
   "metadata": {},
   "outputs": [
    {
     "name": "stdout",
     "output_type": "stream",
     "text": [
      "[1.92520473e-13 6.65381636e-12 9.99999962e-01 3.34565343e-06\n",
      " 9.99794254e-01]\n",
      "\u001b[32mj.b) значимость определяется на генерацию\u001b[0m\n",
      "\u001b[32m     β_i: 2.2920007   2.9688047  -2.51891781  1.83222065 -1.6392292\u001b[0m\n"
     ]
    }
   ],
   "source": [
    "Xdel=np.delete(X,np.where(pvals>alf)[0],1)\n",
    "\n",
    "nonethadel = np.ones(Xdel.shape)\n",
    "nonethadel[:,1:] = Xdel[:,:4]\n",
    "nonethadel[:,0] = 1\n",
    "Fdel = nonethadel.T.dot(nonethadel)\n",
    "\n",
    "modeldel = linear_regression_numba(nonethadel[:,1:], Xdel[:,-1])\n",
    "\n",
    "Fdel_1=np.linalg.inv(Fdel)\n",
    "Rssdel=RSS(Xdel, modeldel)\n",
    "deltadel = modeldel/np.sqrt(Rssdel*Fdel_1.diagonal())*(N-5)**0.5\n",
    "print(t.sf(deltadel,N-5))\n",
    "rprint(\"j.b) значимость определяется на генерацию\")\n",
    "rprint(\"     β_i:\"+str(modeldel)[1:-2])\n",
    "i=7\n",
    "#print(np.array(model[1:]).dot(nonetha[i])+model[0], X[i,-1])"
   ]
  },
  {
   "cell_type": "code",
   "execution_count": 18,
   "id": "ae05050d-284f-46b1-9e44-201cf6bd1a7c",
   "metadata": {},
   "outputs": [
    {
     "name": "stdout",
     "output_type": "stream",
     "text": [
      "\u001b[32mj.c) pval=np.float64(2.7250830101056383e-15)\n",
      "     Отвергаем H0 =>...=> не значим\u001b[0m\n"
     ]
    }
   ],
   "source": [
    "Tssdel = TSS(Xdel)\n",
    "deltadel = (Tssdel-Rssdel)/4/(Rssdel/(N-5))\n",
    "pval=f.sf(deltadel,4,N-5)\n",
    "rprint(f\"j.c) {pval=}\\n     Отвергаем H0 =>...=> не значим\")"
   ]
  },
  {
   "cell_type": "code",
   "execution_count": 19,
   "id": "4afe7ee8-6f0b-4c3e-afd1-0e7ff5799a8f",
   "metadata": {},
   "outputs": [],
   "source": [
    "def getdeltas_del(X, ind):\n",
    "    Xdel=np.delete(X,ind,1)\n",
    "    deltai = np.zeros((bsN, 6))\n",
    "    deltaidel = np.zeros((bsN, 5))\n",
    "    рэсэсы = np.zeros(bsN)\n",
    "    n_samples = len(X)\n",
    "    \n",
    "    for i in range(100000):\n",
    "        indices = np.random.randint(0, n_samples, size=n_samples)\n",
    "        X0 = X[indices]\n",
    "        X0del = Xdel[indices]\n",
    "        X_features = X0[:, :5]\n",
    "        Xdel_features = X0[:, :4]\n",
    "        y = X0[:, -1]\n",
    "        ydel = X0del[:, -1]\n",
    "        deltai[i] = linear_regression_numba(X_features, y)\n",
    "        deltaidel[i] = linear_regression_numba(Xdel_features, ydel)\n",
    "        рэсэсы[i] = RSS(X, deltai[i])**2-RSS(Xdel, deltaidel[i])**2\n",
    "    deltai=deltai.T\n",
    "    deltai=np.sort(deltai)\n",
    "    рэсэсы=np.sort(рэсэсы)\n",
    "    return deltai,рэсэсы"
   ]
  },
  {
   "cell_type": "code",
   "execution_count": 20,
   "id": "c25b33fe-6ca5-477a-957e-592f532dbef1",
   "metadata": {},
   "outputs": [],
   "source": [
    "bsN=100000\n",
    "_,рэсэсы=getdeltas_del(X, np.where(pvals>alf)[0])"
   ]
  },
  {
   "cell_type": "code",
   "execution_count": 21,
   "id": "a7203f7b-f19a-44b7-bdcb-5c35e7ae66c7",
   "metadata": {},
   "outputs": [
    {
     "name": "stdout",
     "output_type": "stream",
     "text": [
      "\u001b[32mk) Интервал: (-140849.13425426604, -53824.21539292895)\u001b[0m\n",
      "\u001b[32m   0 не входит в интервал\u001b[0m\n",
      "\u001b[32m   различия  значемы\u001b[0m\n"
     ]
    }
   ],
   "source": [
    "alf = 0.05\n",
    "k1 = int(alf*bsN)\n",
    "k2 = bsN-k1\n",
    "rprint(f\"k) Интервал: ({рэсэсы[k1]}, {рэсэсы[k2]})\")\n",
    "_ = рэсэсы[k1] <0< рэсэсы[k2]\n",
    "rprint(f\"   0 {\"\" if _ else \"не\"} входит в интервал\")\n",
    "rprint(f\"   различия {\"не\" if _ else \"\"} значемы\")"
   ]
  },
  {
   "cell_type": "code",
   "execution_count": 22,
   "id": "c04e2de2-df12-4aff-9d3c-cdea5ddab5d1",
   "metadata": {},
   "outputs": [
    {
     "name": "stdout",
     "output_type": "stream",
     "text": [
      " ______________________________________\n",
      "/ Look DEEP into the OPENINGS!! Do you \\\n",
      "| see any ELVES or EDSELS ... or a     |\n",
      "\\ HIGHBALL?? ...                       /\n",
      " --------------------------------------\n",
      "        \\   ^__^\n",
      "         \\  (-o)\\_______\n",
      "            (__)\\       )\\/\\\n",
      "                ||----w |\n",
      "                ||     ||\n"
     ]
    }
   ],
   "source": [
    "! fortune|cowsay -e -o"
   ]
  },
  {
   "cell_type": "code",
   "execution_count": null,
   "id": "5e9dbf54-b586-4131-81a5-4ac577e155f2",
   "metadata": {},
   "outputs": [],
   "source": []
  }
 ],
 "metadata": {
  "kernelspec": {
   "display_name": "Python 3 (ipykernel)",
   "language": "python",
   "name": "python3"
  },
  "language_info": {
   "codemirror_mode": {
    "name": "ipython",
    "version": 3
   },
   "file_extension": ".py",
   "mimetype": "text/x-python",
   "name": "python",
   "nbconvert_exporter": "python",
   "pygments_lexer": "ipython3",
   "version": "3.13.2"
  }
 },
 "nbformat": 4,
 "nbformat_minor": 5
}
